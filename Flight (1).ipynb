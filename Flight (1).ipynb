{
 "cells": [
  {
   "cell_type": "markdown",
   "metadata": {},
   "source": [
    "# Flight Price Prediction "
   ]
  },
  {
   "cell_type": "markdown",
   "metadata": {},
   "source": [
    "## Introduction"
   ]
  },
  {
   "cell_type": "markdown",
   "metadata": {},
   "source": [
    "### Flight ticket prices can be something hard to guess, today we might see a price, check out the price of the same flight tomorrow, it will be a different story. We might have often heard travellers saying that flight ticket prices are so unpredictable. Here i will be provided with prices of flight tickets for various airlines between the months of March and June of 2019 and between various cities.\n",
    "\n",
    "### Flight_name: Name of flight\n",
    "### Depart: The source from which the service begins.\n",
    "### Departure_Time: The time when the journey starts from the source.\n",
    "### Arrival_Time:Time of arrival at the destination.\n",
    "### Duration:Total duration of the flight.\n",
    "### Destination: The destination where the service ends.\n",
    "### Total_stops: Total stops between the source and destination.\n",
    "###  Price: The price of the ticket."
   ]
  },
  {
   "cell_type": "code",
   "execution_count": 128,
   "metadata": {},
   "outputs": [
    {
     "data": {
      "text/html": [
       "<img src=\"https://i1.wp.com/thetechhacker.com/wp-content/uploads/2014/10/Top-Best-Airfare-Price-Predictor-Sites-and-Apps-To-Your-Journey.jpg?w=1000&ssl=1\"/>"
      ],
      "text/plain": [
       "<IPython.core.display.Image object>"
      ]
     },
     "execution_count": 128,
     "metadata": {},
     "output_type": "execute_result"
    }
   ],
   "source": [
    "from IPython.display import Image\n",
    "Image(url= \"https://i1.wp.com/thetechhacker.com/wp-content/uploads/2014/10/Top-Best-Airfare-Price-Predictor-Sites-and-Apps-To-Your-Journey.jpg?w=1000&ssl=1\")"
   ]
  },
  {
   "cell_type": "markdown",
   "metadata": {},
   "source": [
    "## Libraries"
   ]
  },
  {
   "cell_type": "code",
   "execution_count": 1,
   "metadata": {},
   "outputs": [
    {
     "name": "stderr",
     "output_type": "stream",
     "text": [
      "UsageError: Line magic function `%` not found.\n"
     ]
    }
   ],
   "source": [
    "import numpy as np\n",
    "import pandas as pd\n",
    "import seaborn as sns\n",
    "import matplotlib.pyplot as plt\n",
    "from scipy.stats import zscore\n",
    "\n",
    "# preprocession, normalizing\n",
    "from sklearn.preprocessing import LabelEncoder\n",
    "from sklearn.preprocessing import StandardScaler\n",
    "\n",
    "# for multicollinearity\n",
    "from statsmodels.stats.outliers_influence import variance_inflation_factor\n",
    "\n",
    "#n for models\n",
    "from sklearn.model_selection import train_test_split, RandomizedSearchCV\n",
    "from sklearn.linear_model import LinearRegression\n",
    "from sklearn.tree import DecisionTreeRegressor\n",
    "from sklearn.ensemble import RandomForestRegressor\n",
    "from sklearn.ensemble import AdaBoostRegressor\n",
    "from sklearn.linear_model import Lasso, LassoCV\n",
    "from sklearn.metrics import mean_squared_error\n",
    "from sklearn.metrics import r2_score\n",
    "\n",
    "import warnings\n",
    "warnings.filterwarnings('ignore')\n",
    "% matplotlib inline"
   ]
  },
  {
   "cell_type": "code",
   "execution_count": 94,
   "metadata": {},
   "outputs": [],
   "source": [
    "# I have import important libraries for this project in one go so that it will save time."
   ]
  },
  {
   "cell_type": "markdown",
   "metadata": {},
   "source": [
    "## Dataset"
   ]
  },
  {
   "cell_type": "code",
   "execution_count": 35,
   "metadata": {
    "scrolled": true
   },
   "outputs": [
    {
     "data": {
      "text/html": [
       "<div>\n",
       "<style scoped>\n",
       "    .dataframe tbody tr th:only-of-type {\n",
       "        vertical-align: middle;\n",
       "    }\n",
       "\n",
       "    .dataframe tbody tr th {\n",
       "        vertical-align: top;\n",
       "    }\n",
       "\n",
       "    .dataframe thead th {\n",
       "        text-align: right;\n",
       "    }\n",
       "</style>\n",
       "<table border=\"1\" class=\"dataframe\">\n",
       "  <thead>\n",
       "    <tr style=\"text-align: right;\">\n",
       "      <th></th>\n",
       "      <th>Flight_name</th>\n",
       "      <th>Depart</th>\n",
       "      <th>Departure_Time</th>\n",
       "      <th>Destination</th>\n",
       "      <th>Arrival_Time</th>\n",
       "      <th>Duration</th>\n",
       "      <th>Total_stops</th>\n",
       "      <th>Price</th>\n",
       "    </tr>\n",
       "  </thead>\n",
       "  <tbody>\n",
       "    <tr>\n",
       "      <th>0</th>\n",
       "      <td>Air Asia</td>\n",
       "      <td>New Delhi</td>\n",
       "      <td>04:25:00</td>\n",
       "      <td>Mumbai</td>\n",
       "      <td>06:35:00</td>\n",
       "      <td>2h 10m</td>\n",
       "      <td>Non Stop</td>\n",
       "      <td>2456</td>\n",
       "    </tr>\n",
       "    <tr>\n",
       "      <th>1</th>\n",
       "      <td>Go First</td>\n",
       "      <td>New Delhi</td>\n",
       "      <td>07:00:00</td>\n",
       "      <td>Mumbai</td>\n",
       "      <td>09:10:00</td>\n",
       "      <td>2h 10m</td>\n",
       "      <td>Non Stop</td>\n",
       "      <td>2456</td>\n",
       "    </tr>\n",
       "    <tr>\n",
       "      <th>2</th>\n",
       "      <td>IndiGo</td>\n",
       "      <td>New Delhi</td>\n",
       "      <td>07:15:00</td>\n",
       "      <td>Mumbai</td>\n",
       "      <td>09:25:00</td>\n",
       "      <td>2h 10m</td>\n",
       "      <td>Non Stop</td>\n",
       "      <td>2456</td>\n",
       "    </tr>\n",
       "    <tr>\n",
       "      <th>3</th>\n",
       "      <td>Go First</td>\n",
       "      <td>New Delhi</td>\n",
       "      <td>08:00:00</td>\n",
       "      <td>Mumbai</td>\n",
       "      <td>10:10:00</td>\n",
       "      <td>2h 10m</td>\n",
       "      <td>Non Stop</td>\n",
       "      <td>2456</td>\n",
       "    </tr>\n",
       "    <tr>\n",
       "      <th>4</th>\n",
       "      <td>IndiGo</td>\n",
       "      <td>New Delhi</td>\n",
       "      <td>08:10:00</td>\n",
       "      <td>Mumbai</td>\n",
       "      <td>10:20:00</td>\n",
       "      <td>2h 10m</td>\n",
       "      <td>Non Stop</td>\n",
       "      <td>2456</td>\n",
       "    </tr>\n",
       "  </tbody>\n",
       "</table>\n",
       "</div>"
      ],
      "text/plain": [
       "  Flight_name     Depart Departure_Time Destination Arrival_Time Duration  \\\n",
       "0    Air Asia  New Delhi       04:25:00      Mumbai     06:35:00   2h 10m   \n",
       "1    Go First  New Delhi       07:00:00      Mumbai     09:10:00   2h 10m   \n",
       "2      IndiGo  New Delhi       07:15:00      Mumbai     09:25:00   2h 10m   \n",
       "3    Go First  New Delhi       08:00:00      Mumbai     10:10:00   2h 10m   \n",
       "4      IndiGo  New Delhi       08:10:00      Mumbai     10:20:00   2h 10m   \n",
       "\n",
       "  Total_stops  Price  \n",
       "0    Non Stop   2456  \n",
       "1    Non Stop   2456  \n",
       "2    Non Stop   2456  \n",
       "3    Non Stop   2456  \n",
       "4    Non Stop   2456  "
      ]
     },
     "execution_count": 35,
     "metadata": {},
     "output_type": "execute_result"
    }
   ],
   "source": [
    "df = pd.read_excel('flight.xlsx')\n",
    "df.head()"
   ]
  },
  {
   "cell_type": "code",
   "execution_count": 95,
   "metadata": {},
   "outputs": [],
   "source": [
    "# From the dataset i can say that there are few columns in integer and few are in strings.\n",
    "# All the columns have vital information so i will not be dropping any columns from the dataset except one column."
   ]
  },
  {
   "cell_type": "markdown",
   "metadata": {},
   "source": [
    "## EDA - Exploratory Data Analysis"
   ]
  },
  {
   "cell_type": "code",
   "execution_count": 36,
   "metadata": {},
   "outputs": [
    {
     "data": {
      "text/plain": [
       "(1470, 8)"
      ]
     },
     "execution_count": 36,
     "metadata": {},
     "output_type": "execute_result"
    }
   ],
   "source": [
    "df.shape"
   ]
  },
  {
   "cell_type": "code",
   "execution_count": 96,
   "metadata": {},
   "outputs": [],
   "source": [
    "# There are 1470 rows and 8 columns in the dataset."
   ]
  },
  {
   "cell_type": "code",
   "execution_count": 37,
   "metadata": {
    "scrolled": true
   },
   "outputs": [
    {
     "name": "stdout",
     "output_type": "stream",
     "text": [
      "<class 'pandas.core.frame.DataFrame'>\n",
      "RangeIndex: 1470 entries, 0 to 1469\n",
      "Data columns (total 8 columns):\n",
      " #   Column          Non-Null Count  Dtype \n",
      "---  ------          --------------  ----- \n",
      " 0   Flight_name     1470 non-null   object\n",
      " 1   Depart          1470 non-null   object\n",
      " 2   Departure_Time  1470 non-null   object\n",
      " 3   Destination     1470 non-null   object\n",
      " 4   Arrival_Time    1470 non-null   object\n",
      " 5   Duration        1469 non-null   object\n",
      " 6   Total_stops     1470 non-null   object\n",
      " 7   Price           1470 non-null   int64 \n",
      "dtypes: int64(1), object(7)\n",
      "memory usage: 92.0+ KB\n"
     ]
    }
   ],
   "source": [
    "pd.set_option('display.max_rows',None)\n",
    "df.info()"
   ]
  },
  {
   "cell_type": "code",
   "execution_count": 97,
   "metadata": {},
   "outputs": [],
   "source": [
    "# It is a mixed dataset as 6 columns are object type and 1 columns are integers type."
   ]
  },
  {
   "cell_type": "code",
   "execution_count": 38,
   "metadata": {},
   "outputs": [
    {
     "data": {
      "text/plain": [
       "(1291, 8)"
      ]
     },
     "execution_count": 38,
     "metadata": {},
     "output_type": "execute_result"
    }
   ],
   "source": [
    "df.drop_duplicates(inplace = True)\n",
    "df.shape"
   ]
  },
  {
   "cell_type": "code",
   "execution_count": 98,
   "metadata": {},
   "outputs": [],
   "source": [
    "# There are few duplicates value in the datset.\n",
    "# Now there are 1291 rows and 8 columns in the dataset."
   ]
  },
  {
   "cell_type": "code",
   "execution_count": 39,
   "metadata": {
    "scrolled": true
   },
   "outputs": [
    {
     "data": {
      "text/plain": [
       "Flight_name         6\n",
       "Depart              4\n",
       "Departure_Time    220\n",
       "Destination        10\n",
       "Arrival_Time      225\n",
       "Duration          302\n",
       "Total_stops         9\n",
       "Price             567\n",
       "dtype: int64"
      ]
     },
     "execution_count": 39,
     "metadata": {},
     "output_type": "execute_result"
    }
   ],
   "source": [
    "df.nunique()"
   ]
  },
  {
   "cell_type": "code",
   "execution_count": null,
   "metadata": {},
   "outputs": [],
   "source": [
    "# There are few columns which are categorical in nature and few columns are continous in nature."
   ]
  },
  {
   "cell_type": "markdown",
   "metadata": {},
   "source": [
    "## Flight name"
   ]
  },
  {
   "cell_type": "code",
   "execution_count": 7,
   "metadata": {},
   "outputs": [
    {
     "data": {
      "text/plain": [
       "IndiGo       341\n",
       "Vistara      321\n",
       "Air India    308\n",
       "Go First     147\n",
       "Air Asia      93\n",
       "SpiceJet      81\n",
       "Name: Flight_name, dtype: int64"
      ]
     },
     "execution_count": 7,
     "metadata": {},
     "output_type": "execute_result"
    }
   ],
   "source": [
    "df[\"Flight_name\"].value_counts()"
   ]
  },
  {
   "cell_type": "code",
   "execution_count": 8,
   "metadata": {
    "scrolled": true
   },
   "outputs": [
    {
     "data": {
      "image/png": "[encoded data removed]",
      "text/plain": [
       "<Figure size 1296x432 with 1 Axes>"
      ]
     },
     "metadata": {
      "needs_background": "light"
     },
     "output_type": "display_data"
    }
   ],
   "source": [
    "# Airline vs Price\n",
    "sns.catplot(y = \"Price\", x = \"Flight_name\", data = df.sort_values(\"Price\", ascending = False), kind=\"boxen\", height = 6, aspect = 3)\n",
    "plt.show()"
   ]
  },
  {
   "cell_type": "code",
   "execution_count": 99,
   "metadata": {},
   "outputs": [],
   "source": [
    "# Vistara flight price is high as compared to other flight service."
   ]
  },
  {
   "cell_type": "markdown",
   "metadata": {},
   "source": [
    "## Departure"
   ]
  },
  {
   "cell_type": "code",
   "execution_count": 9,
   "metadata": {},
   "outputs": [
    {
     "data": {
      "text/plain": [
       "New Delhi    429\n",
       "Bangalore    406\n",
       "Mumbai       309\n",
       "Kolkata      147\n",
       "Name: Depart, dtype: int64"
      ]
     },
     "execution_count": 9,
     "metadata": {},
     "output_type": "execute_result"
    }
   ],
   "source": [
    "df[\"Depart\"].value_counts()"
   ]
  },
  {
   "cell_type": "code",
   "execution_count": 10,
   "metadata": {
    "scrolled": true
   },
   "outputs": [
    {
     "data": {
      "text/plain": [
       "<AxesSubplot:xlabel='Depart', ylabel='Price'>"
      ]
     },
     "execution_count": 10,
     "metadata": {},
     "output_type": "execute_result"
    },
    {
     "data": {
      "image/png": "[encoded data removed]",
      "text/plain": [
       "<Figure size 432x288 with 1 Axes>"
      ]
     },
     "metadata": {
      "needs_background": "light"
     },
     "output_type": "display_data"
    }
   ],
   "source": [
    "sns.barplot(df['Depart'],df['Price'])"
   ]
  },
  {
   "cell_type": "code",
   "execution_count": 100,
   "metadata": {},
   "outputs": [],
   "source": [
    "# Flight price from mumbai is high as compared to other state."
   ]
  },
  {
   "cell_type": "markdown",
   "metadata": {},
   "source": [
    "## Destination"
   ]
  },
  {
   "cell_type": "code",
   "execution_count": 11,
   "metadata": {},
   "outputs": [
    {
     "data": {
      "text/plain": [
       "Goa           250\n",
       "Mumbai        171\n",
       "New Delhi     147\n",
       "Kolkata       121\n",
       "Hyderabad     113\n",
       "Varanasi      109\n",
       "Guwahati      106\n",
       "Chandigarh     95\n",
       "Lucknow        94\n",
       "Jaipur         85\n",
       "Name: Destination, dtype: int64"
      ]
     },
     "execution_count": 11,
     "metadata": {},
     "output_type": "execute_result"
    }
   ],
   "source": [
    "df[\"Destination\"].value_counts()"
   ]
  },
  {
   "cell_type": "code",
   "execution_count": 12,
   "metadata": {
    "scrolled": true
   },
   "outputs": [
    {
     "data": {
      "image/png": "[encoded data removed]",
      "text/plain": [
       "<Figure size 1296x432 with 1 Axes>"
      ]
     },
     "metadata": {
      "needs_background": "light"
     },
     "output_type": "display_data"
    }
   ],
   "source": [
    "sns.catplot(y = \"Price\", x = \"Destination\", data = df.sort_values(\"Price\", ascending = False), kind=\"boxen\", height = 6, aspect = 3)\n",
    "plt.show()"
   ]
  },
  {
   "cell_type": "code",
   "execution_count": 101,
   "metadata": {},
   "outputs": [],
   "source": [
    "# Destination do affect the price of the flight.\n",
    "# Jaipur, Goa and New Delhi flight price is high as compared to other state."
   ]
  },
  {
   "cell_type": "markdown",
   "metadata": {},
   "source": [
    "## Total stops"
   ]
  },
  {
   "cell_type": "code",
   "execution_count": 13,
   "metadata": {},
   "outputs": [
    {
     "data": {
      "text/plain": [
       "1 Stop       906\n",
       "Non Stop     194\n",
       "2 Stop(s)    118\n",
       "2 Stop        38\n",
       "3 Stop(s)     28\n",
       "4 Stop(s)      3\n",
       "3 Stop         2\n",
       "5 Stop         1\n",
       "4 Stop         1\n",
       "Name: Total_stops, dtype: int64"
      ]
     },
     "execution_count": 13,
     "metadata": {},
     "output_type": "execute_result"
    }
   ],
   "source": [
    "df[\"Total_stops\"].value_counts()"
   ]
  },
  {
   "cell_type": "code",
   "execution_count": 14,
   "metadata": {
    "scrolled": true
   },
   "outputs": [
    {
     "data": {
      "text/plain": [
       "<AxesSubplot:xlabel='Total_stops', ylabel='Price'>"
      ]
     },
     "execution_count": 14,
     "metadata": {},
     "output_type": "execute_result"
    },
    {
     "data": {
      "image/png": "[encoded data removed]",
      "text/plain": [
       "<Figure size 432x288 with 1 Axes>"
      ]
     },
     "metadata": {
      "needs_background": "light"
     },
     "output_type": "display_data"
    }
   ],
   "source": [
    "sns.barplot(df['Total_stops'],df['Price'])"
   ]
  },
  {
   "cell_type": "code",
   "execution_count": 102,
   "metadata": {},
   "outputs": [],
   "source": [
    "# The flight that have no stop is cheapest among others."
   ]
  },
  {
   "cell_type": "markdown",
   "metadata": {},
   "source": [
    "## Label Encoder"
   ]
  },
  {
   "cell_type": "code",
   "execution_count": 41,
   "metadata": {},
   "outputs": [],
   "source": [
    "le = LabelEncoder()\n",
    "df.Flight_name = le.fit_transform(df.Flight_name)\n",
    "df.Depart = le.fit_transform(df.Depart)\n",
    "df.Departure_Time = le.fit_transform(df.Departure_Time)\n",
    "df.Destination = le.fit_transform(df.Destination)\n",
    "df.Arrival_Time = le.fit_transform(df.Arrival_Time)\n",
    "df.Duration = le.fit_transform(df.Duration)\n",
    "df.Total_stops = le.fit_transform(df.Total_stops)"
   ]
  },
  {
   "cell_type": "code",
   "execution_count": 103,
   "metadata": {},
   "outputs": [],
   "source": [
    "# I have used label encoder to convert the strings values into intergers.\n",
    "# It will help me in model building."
   ]
  },
  {
   "cell_type": "code",
   "execution_count": 42,
   "metadata": {
    "scrolled": true
   },
   "outputs": [
    {
     "data": {
      "text/html": [
       "<div>\n",
       "<style scoped>\n",
       "    .dataframe tbody tr th:only-of-type {\n",
       "        vertical-align: middle;\n",
       "    }\n",
       "\n",
       "    .dataframe tbody tr th {\n",
       "        vertical-align: top;\n",
       "    }\n",
       "\n",
       "    .dataframe thead th {\n",
       "        text-align: right;\n",
       "    }\n",
       "</style>\n",
       "<table border=\"1\" class=\"dataframe\">\n",
       "  <thead>\n",
       "    <tr style=\"text-align: right;\">\n",
       "      <th></th>\n",
       "      <th>Flight_name</th>\n",
       "      <th>Depart</th>\n",
       "      <th>Departure_Time</th>\n",
       "      <th>Destination</th>\n",
       "      <th>Arrival_Time</th>\n",
       "      <th>Duration</th>\n",
       "      <th>Total_stops</th>\n",
       "      <th>Price</th>\n",
       "    </tr>\n",
       "  </thead>\n",
       "  <tbody>\n",
       "    <tr>\n",
       "      <th>count</th>\n",
       "      <td>1291.000000</td>\n",
       "      <td>1291.000000</td>\n",
       "      <td>1291.000000</td>\n",
       "      <td>1291.000000</td>\n",
       "      <td>1291.000000</td>\n",
       "      <td>1291.000000</td>\n",
       "      <td>1291.000000</td>\n",
       "      <td>1291.000000</td>\n",
       "    </tr>\n",
       "    <tr>\n",
       "      <th>mean</th>\n",
       "      <td>2.752905</td>\n",
       "      <td>1.589466</td>\n",
       "      <td>106.068164</td>\n",
       "      <td>4.387297</td>\n",
       "      <td>122.204493</td>\n",
       "      <td>174.089853</td>\n",
       "      <td>1.529047</td>\n",
       "      <td>6364.553834</td>\n",
       "    </tr>\n",
       "    <tr>\n",
       "      <th>std</th>\n",
       "      <td>1.647685</td>\n",
       "      <td>1.239660</td>\n",
       "      <td>60.610665</td>\n",
       "      <td>2.950017</td>\n",
       "      <td>59.460586</td>\n",
       "      <td>96.571753</td>\n",
       "      <td>2.860539</td>\n",
       "      <td>2772.914216</td>\n",
       "    </tr>\n",
       "    <tr>\n",
       "      <th>min</th>\n",
       "      <td>0.000000</td>\n",
       "      <td>0.000000</td>\n",
       "      <td>0.000000</td>\n",
       "      <td>0.000000</td>\n",
       "      <td>0.000000</td>\n",
       "      <td>0.000000</td>\n",
       "      <td>0.000000</td>\n",
       "      <td>1890.000000</td>\n",
       "    </tr>\n",
       "    <tr>\n",
       "      <th>25%</th>\n",
       "      <td>1.000000</td>\n",
       "      <td>0.000000</td>\n",
       "      <td>50.000000</td>\n",
       "      <td>1.000000</td>\n",
       "      <td>79.500000</td>\n",
       "      <td>82.500000</td>\n",
       "      <td>0.000000</td>\n",
       "      <td>4384.500000</td>\n",
       "    </tr>\n",
       "    <tr>\n",
       "      <th>50%</th>\n",
       "      <td>3.000000</td>\n",
       "      <td>2.000000</td>\n",
       "      <td>96.000000</td>\n",
       "      <td>4.000000</td>\n",
       "      <td>121.000000</td>\n",
       "      <td>205.000000</td>\n",
       "      <td>0.000000</td>\n",
       "      <td>5702.000000</td>\n",
       "    </tr>\n",
       "    <tr>\n",
       "      <th>75%</th>\n",
       "      <td>4.000000</td>\n",
       "      <td>3.000000</td>\n",
       "      <td>160.500000</td>\n",
       "      <td>7.000000</td>\n",
       "      <td>173.000000</td>\n",
       "      <td>261.000000</td>\n",
       "      <td>2.000000</td>\n",
       "      <td>7506.000000</td>\n",
       "    </tr>\n",
       "    <tr>\n",
       "      <th>max</th>\n",
       "      <td>5.000000</td>\n",
       "      <td>3.000000</td>\n",
       "      <td>219.000000</td>\n",
       "      <td>9.000000</td>\n",
       "      <td>224.000000</td>\n",
       "      <td>302.000000</td>\n",
       "      <td>8.000000</td>\n",
       "      <td>23672.000000</td>\n",
       "    </tr>\n",
       "  </tbody>\n",
       "</table>\n",
       "</div>"
      ],
      "text/plain": [
       "       Flight_name       Depart  Departure_Time  Destination  Arrival_Time  \\\n",
       "count  1291.000000  1291.000000     1291.000000  1291.000000   1291.000000   \n",
       "mean      2.752905     1.589466      106.068164     4.387297    122.204493   \n",
       "std       1.647685     1.239660       60.610665     2.950017     59.460586   \n",
       "min       0.000000     0.000000        0.000000     0.000000      0.000000   \n",
       "25%       1.000000     0.000000       50.000000     1.000000     79.500000   \n",
       "50%       3.000000     2.000000       96.000000     4.000000    121.000000   \n",
       "75%       4.000000     3.000000      160.500000     7.000000    173.000000   \n",
       "max       5.000000     3.000000      219.000000     9.000000    224.000000   \n",
       "\n",
       "          Duration  Total_stops         Price  \n",
       "count  1291.000000  1291.000000   1291.000000  \n",
       "mean    174.089853     1.529047   6364.553834  \n",
       "std      96.571753     2.860539   2772.914216  \n",
       "min       0.000000     0.000000   1890.000000  \n",
       "25%      82.500000     0.000000   4384.500000  \n",
       "50%     205.000000     0.000000   5702.000000  \n",
       "75%     261.000000     2.000000   7506.000000  \n",
       "max     302.000000     8.000000  23672.000000  "
      ]
     },
     "execution_count": 42,
     "metadata": {},
     "output_type": "execute_result"
    }
   ],
   "source": [
    "df.describe()"
   ]
  },
  {
   "cell_type": "code",
   "execution_count": 104,
   "metadata": {},
   "outputs": [],
   "source": [
    "# Total number of counts in each columns is matching as there is no missing values.\n",
    "# The difference between the mean and 50% is not much.\n",
    "# There are outlires in the dataset which i will remove it soon."
   ]
  },
  {
   "cell_type": "markdown",
   "metadata": {},
   "source": [
    "## Distribution plot"
   ]
  },
  {
   "cell_type": "code",
   "execution_count": 43,
   "metadata": {
    "scrolled": false
   },
   "outputs": [
    {
     "data": {
      "image/png": "[encoded data removed]",
      "text/plain": [
       "<Figure size 1800x1440 with 8 Axes>"
      ]
     },
     "metadata": {},
     "output_type": "display_data"
    }
   ],
   "source": [
    "# using the the distribution plot \n",
    "\n",
    "plt.figure(figsize=(25,20), facecolor='white')\n",
    "plotnumber = 1\n",
    "\n",
    "for column in df:\n",
    "    if plotnumber<=8:\n",
    "        ax=plt.subplot(2,4,plotnumber)\n",
    "        sns.distplot(df[column])\n",
    "        plt.xlabel(column,fontsize=25)\n",
    "    plotnumber+=1\n",
    "plt.tight_layout() "
   ]
  },
  {
   "cell_type": "code",
   "execution_count": 105,
   "metadata": {},
   "outputs": [],
   "source": [
    "# The dataset is normally distributed as there is no skewness in the dataset."
   ]
  },
  {
   "cell_type": "markdown",
   "metadata": {},
   "source": [
    "### Replacing zero values from differnet columns"
   ]
  },
  {
   "cell_type": "code",
   "execution_count": 44,
   "metadata": {},
   "outputs": [],
   "source": [
    "# Replacing continous columns with mean\n",
    "df['Departure_Time']=df['Departure_Time'].replace(0,df['Departure_Time'].mean())\n",
    "df['Arrival_Time']=df['Arrival_Time'].replace(0,df['Arrival_Time'].mean())\n",
    "df['Duration']=df['Duration'].replace(0,df['Duration'].mean())"
   ]
  },
  {
   "cell_type": "code",
   "execution_count": 106,
   "metadata": {},
   "outputs": [],
   "source": [
    "# There are few zero values that got replaced with the help of mean."
   ]
  },
  {
   "cell_type": "markdown",
   "metadata": {},
   "source": [
    "## Box Plot"
   ]
  },
  {
   "cell_type": "code",
   "execution_count": 107,
   "metadata": {
    "scrolled": false
   },
   "outputs": [
    {
     "data": {
      "text/plain": [
       "Flight_name          AxesSubplot(0.125,0.536818;0.168478x0.343182)\n",
       "Depart            AxesSubplot(0.327174,0.536818;0.168478x0.343182)\n",
       "Departure_Time    AxesSubplot(0.529348,0.536818;0.168478x0.343182)\n",
       "Destination       AxesSubplot(0.731522,0.536818;0.168478x0.343182)\n",
       "Arrival_Time            AxesSubplot(0.125,0.125;0.168478x0.343182)\n",
       "Duration             AxesSubplot(0.327174,0.125;0.168478x0.343182)\n",
       "Total_stops          AxesSubplot(0.529348,0.125;0.168478x0.343182)\n",
       "Price                AxesSubplot(0.731522,0.125;0.168478x0.343182)\n",
       "dtype: object"
      ]
     },
     "execution_count": 107,
     "metadata": {},
     "output_type": "execute_result"
    },
    {
     "data": {
      "image/png": "[encoded data removed]",
      "text/plain": [
       "<Figure size 1440x1440 with 8 Axes>"
      ]
     },
     "metadata": {
      "needs_background": "light"
     },
     "output_type": "display_data"
    }
   ],
   "source": [
    "df.plot(kind='box',subplots=True,layout=(2,4),figsize=(20,20))"
   ]
  },
  {
   "cell_type": "code",
   "execution_count": 108,
   "metadata": {},
   "outputs": [],
   "source": [
    "# There are no outliers in the dataset."
   ]
  },
  {
   "cell_type": "markdown",
   "metadata": {},
   "source": [
    "## Visualize the correlation"
   ]
  },
  {
   "cell_type": "code",
   "execution_count": 47,
   "metadata": {},
   "outputs": [
    {
     "data": {
      "text/plain": [
       "Flight_name       0.140438\n",
       "Depart           -0.141651\n",
       "Departure_Time   -0.009117\n",
       "Destination      -0.016628\n",
       "Arrival_Time      0.085731\n",
       "Duration         -0.050965\n",
       "Total_stops      -0.319448\n",
       "dtype: float64"
      ]
     },
     "execution_count": 47,
     "metadata": {},
     "output_type": "execute_result"
    }
   ],
   "source": [
    "df.drop('Price',axis=1).corrwith(df.Price)"
   ]
  },
  {
   "cell_type": "markdown",
   "metadata": {},
   "source": [
    "## correlation"
   ]
  },
  {
   "cell_type": "code",
   "execution_count": 48,
   "metadata": {
    "scrolled": false
   },
   "outputs": [
    {
     "data": {
      "image/png": "[encoded data removed]",
      "text/plain": [
       "<Figure size 720x504 with 1 Axes>"
      ]
     },
     "metadata": {
      "needs_background": "light"
     },
     "output_type": "display_data"
    }
   ],
   "source": [
    "df.drop('Price',axis=1).corrwith(df.Price).plot(kind='bar',grid=True,figsize=(10,7),title=\"correlation with target\")\n",
    "plt.show()"
   ]
  },
  {
   "cell_type": "code",
   "execution_count": 109,
   "metadata": {},
   "outputs": [],
   "source": [
    "# The above plot gives me an clear idea that few columns are positively correlated and few are negatively correlated with label.\n",
    "# However i will use all the columns for model prediction."
   ]
  },
  {
   "cell_type": "markdown",
   "metadata": {},
   "source": [
    "## Machine Learning"
   ]
  },
  {
   "cell_type": "code",
   "execution_count": 49,
   "metadata": {},
   "outputs": [],
   "source": [
    "x = df.drop('Price',axis=1)\n",
    "y = df.Price"
   ]
  },
  {
   "cell_type": "code",
   "execution_count": 112,
   "metadata": {},
   "outputs": [],
   "source": [
    "# I have divided dataset into feature and label."
   ]
  },
  {
   "cell_type": "markdown",
   "metadata": {},
   "source": [
    "## StandardScaler"
   ]
  },
  {
   "cell_type": "code",
   "execution_count": 50,
   "metadata": {
    "scrolled": true
   },
   "outputs": [
    {
     "data": {
      "text/plain": [
       "array([[-1.67141879,  1.13828063, -1.57233836, ..., -1.54271178,\n",
       "         0.30071996,  2.26302128],\n",
       "       [-0.4571241 ,  1.13828063, -1.09311968, ..., -1.0700766 ,\n",
       "         0.30071996,  2.26302128],\n",
       "       [ 0.15002324,  1.13828063, -1.04354534, ..., -1.01943712,\n",
       "         0.30071996,  2.26302128],\n",
       "       ...,\n",
       "       [ 1.36431793, -0.47569004,  0.74113112, ..., -0.44552297,\n",
       "        -0.79960891,  0.16470157],\n",
       "       [ 1.36431793, -0.47569004, -0.48170275, ..., -1.10383626,\n",
       "        -0.35947736,  0.16470157],\n",
       "       [ 1.36431793, -0.47569004,  0.74113112, ...,  0.90486326,\n",
       "         0.01777825,  0.16470157]])"
      ]
     },
     "execution_count": 50,
     "metadata": {},
     "output_type": "execute_result"
    }
   ],
   "source": [
    "scaler = StandardScaler()\n",
    "x_scaled = scaler.fit_transform(x)\n",
    "x_scaled"
   ]
  },
  {
   "cell_type": "code",
   "execution_count": 111,
   "metadata": {},
   "outputs": [],
   "source": [
    "# Standard scaler is basically scaling the date in one range so that it will be easy for Model building."
   ]
  },
  {
   "cell_type": "markdown",
   "metadata": {},
   "source": [
    "## VIF - variance inflation factor"
   ]
  },
  {
   "cell_type": "code",
   "execution_count": 51,
   "metadata": {
    "scrolled": true
   },
   "outputs": [
    {
     "data": {
      "text/html": [
       "<div>\n",
       "<style scoped>\n",
       "    .dataframe tbody tr th:only-of-type {\n",
       "        vertical-align: middle;\n",
       "    }\n",
       "\n",
       "    .dataframe tbody tr th {\n",
       "        vertical-align: top;\n",
       "    }\n",
       "\n",
       "    .dataframe thead th {\n",
       "        text-align: right;\n",
       "    }\n",
       "</style>\n",
       "<table border=\"1\" class=\"dataframe\">\n",
       "  <thead>\n",
       "    <tr style=\"text-align: right;\">\n",
       "      <th></th>\n",
       "      <th>vif</th>\n",
       "      <th>Features</th>\n",
       "    </tr>\n",
       "  </thead>\n",
       "  <tbody>\n",
       "    <tr>\n",
       "      <th>0</th>\n",
       "      <td>1.017104</td>\n",
       "      <td>Flight_name</td>\n",
       "    </tr>\n",
       "    <tr>\n",
       "      <th>1</th>\n",
       "      <td>1.039108</td>\n",
       "      <td>Depart</td>\n",
       "    </tr>\n",
       "    <tr>\n",
       "      <th>2</th>\n",
       "      <td>1.049731</td>\n",
       "      <td>Departure_Time</td>\n",
       "    </tr>\n",
       "    <tr>\n",
       "      <th>3</th>\n",
       "      <td>1.027024</td>\n",
       "      <td>Destination</td>\n",
       "    </tr>\n",
       "    <tr>\n",
       "      <th>4</th>\n",
       "      <td>1.031894</td>\n",
       "      <td>Arrival_Time</td>\n",
       "    </tr>\n",
       "    <tr>\n",
       "      <th>5</th>\n",
       "      <td>1.032525</td>\n",
       "      <td>Duration</td>\n",
       "    </tr>\n",
       "    <tr>\n",
       "      <th>6</th>\n",
       "      <td>1.019838</td>\n",
       "      <td>Total_stops</td>\n",
       "    </tr>\n",
       "  </tbody>\n",
       "</table>\n",
       "</div>"
      ],
      "text/plain": [
       "        vif        Features\n",
       "0  1.017104     Flight_name\n",
       "1  1.039108          Depart\n",
       "2  1.049731  Departure_Time\n",
       "3  1.027024     Destination\n",
       "4  1.031894    Arrival_Time\n",
       "5  1.032525        Duration\n",
       "6  1.019838     Total_stops"
      ]
     },
     "execution_count": 51,
     "metadata": {},
     "output_type": "execute_result"
    }
   ],
   "source": [
    "vif = pd.DataFrame()\n",
    "vif[\"vif\"] = [variance_inflation_factor(x_scaled,i) for i in range (x_scaled.shape[1])]\n",
    "vif[\"Features\"] = x.columns\n",
    "vif"
   ]
  },
  {
   "cell_type": "code",
   "execution_count": 110,
   "metadata": {},
   "outputs": [],
   "source": [
    "# VIF is used to detect the severity of multicollinearity in the ordinary least square (OLS) regression analysis.\n",
    "# Multicollinearity is a phenomenon when two or more independent variables are highly intercorrelated.\n",
    "# From the above stats i can say that none of the features are highly intercorrelated it means Multicollinearity doesn't exist."
   ]
  },
  {
   "cell_type": "markdown",
   "metadata": {},
   "source": [
    "## Model Building"
   ]
  },
  {
   "cell_type": "code",
   "execution_count": 52,
   "metadata": {},
   "outputs": [],
   "source": [
    "x_train,x_test,y_train,y_test = train_test_split(x_scaled,y,test_size=0.25,random_state = 370)"
   ]
  },
  {
   "cell_type": "code",
   "execution_count": 113,
   "metadata": {},
   "outputs": [],
   "source": [
    "# For model prediction i am dividing the dataset into 2 parts.\n",
    "# One part is used for training purpose i.e 75% dataset.\n",
    "# other part is used for testing purpose i.e 25% dataset."
   ]
  },
  {
   "cell_type": "markdown",
   "metadata": {},
   "source": [
    "## Linear Regression model"
   ]
  },
  {
   "cell_type": "code",
   "execution_count": 53,
   "metadata": {},
   "outputs": [
    {
     "data": {
      "text/plain": [
       "LinearRegression()"
      ]
     },
     "execution_count": 53,
     "metadata": {},
     "output_type": "execute_result"
    }
   ],
   "source": [
    "rg = LinearRegression()\n",
    "rg.fit(x_train,y_train)"
   ]
  },
  {
   "cell_type": "code",
   "execution_count": 54,
   "metadata": {},
   "outputs": [
    {
     "data": {
      "text/plain": [
       "0.14706355029372165"
      ]
     },
     "execution_count": 54,
     "metadata": {},
     "output_type": "execute_result"
    }
   ],
   "source": [
    "# adjusted r2 score\n",
    "rg.score(x_train,y_train)"
   ]
  },
  {
   "cell_type": "code",
   "execution_count": 55,
   "metadata": {},
   "outputs": [
    {
     "data": {
      "text/plain": [
       "0.11949209738011568"
      ]
     },
     "execution_count": 55,
     "metadata": {},
     "output_type": "execute_result"
    }
   ],
   "source": [
    "rg.score(x_test,y_test)"
   ]
  },
  {
   "cell_type": "code",
   "execution_count": 56,
   "metadata": {},
   "outputs": [
    {
     "data": {
      "text/plain": [
       "array([3529.57500421, 7069.85813283, 6986.08924918, 6443.01477347,\n",
       "       5630.19054029, 7062.9066522 , 7457.69203746, 6270.33571725,\n",
       "       5436.29453016, 7447.40023519, 7609.90787591, 6959.25771574,\n",
       "       6145.24072538, 7290.06806022, 3807.35574869, 6947.06936823,\n",
       "       7262.39157445, 4369.60259254, 7139.03100957, 6852.66226128,\n",
       "       6353.25478417, 6704.78676034, 6247.63570016, 7102.46469591,\n",
       "       5949.20782159, 5143.38248292, 6786.38996188, 5821.11476736,\n",
       "       6956.28313004, 5691.10643835, 6107.27300652, 6892.3904228 ,\n",
       "       7465.40117215, 5701.3521286 , 6352.04764381, 6037.89171527,\n",
       "       7223.62858268, 7202.28211001, 5716.30098096, 6318.51615596,\n",
       "       6335.25352472, 6802.72173781, 6841.51237119, 3666.13058531,\n",
       "       5297.5753309 , 7206.25033212, 6513.49849576, 6605.98998216,\n",
       "       5715.02935791, 6261.15841498, 6610.23704521, 4050.27302899,\n",
       "       7532.32998069, 5516.65957928, 5963.57951496, 4015.93228555,\n",
       "       6326.70960538, 6430.86597158, 6449.49315813, 6064.47647878,\n",
       "       7073.24224298, 5832.89800788, 6893.87621972, 6403.06696264,\n",
       "       7582.31959087, 6903.94751778, 6851.92509247, 6701.93309333,\n",
       "       7002.76696356, 5483.79421193, 6757.5987936 , 6798.03424272,\n",
       "       6159.57301164, 6772.58256341, 6883.60969396, 4851.04738991,\n",
       "       6189.34693085, 7371.75715074, 7436.33624494, 3923.9525903 ,\n",
       "       5642.39803271, 6126.25521852, 6962.34339171, 6656.80251639,\n",
       "       3429.46562925, 4920.10784127, 5996.98421845, 7144.93311844,\n",
       "       4139.77982908, 6083.04334679, 6852.59924146, 4535.35634413,\n",
       "       6780.39663618, 6483.2217097 , 6859.37945274, 5970.86860738,\n",
       "       6941.07836591, 7083.64721796, 5379.90604061, 7623.80482919,\n",
       "       6657.22796657, 7453.07750617, 7254.30433788, 6269.28434155,\n",
       "       7164.51698519, 6001.14409918, 6766.1142241 , 6385.33765992,\n",
       "       7632.82274466, 6457.13186417, 4448.08944591, 6651.98919255,\n",
       "       6271.95012078, 7821.55544525, 7035.98454845, 7284.19946179,\n",
       "       4456.34530388, 7032.55093666, 6342.31139409, 6461.91040953,\n",
       "       7419.24490504, 6164.86428002, 6163.2789899 , 7016.36290955,\n",
       "       3675.89868963, 4329.88335217, 7546.42204647, 6864.92134408,\n",
       "       6389.91286455, 6575.74216751, 5312.59128933, 6965.77005181,\n",
       "       6620.64191485, 4577.55404127, 5926.55121561, 6673.7432462 ,\n",
       "       6757.04851866, 5526.43847275, 6333.90894627, 7363.21222755,\n",
       "       6253.18941407, 6934.35842154, 6347.52437684, 6757.20001356,\n",
       "       6614.25558356, 7411.50968225, 5749.79413066, 5989.56183712,\n",
       "       5927.46452564, 6695.33709921, 6356.91830328, 6422.15181302,\n",
       "       6619.827009  , 6633.81460007, 6171.85040842, 7184.25490341,\n",
       "       6829.54211768, 6406.07873615, 6521.52419977, 6301.21620578,\n",
       "       4530.19642977, 6070.30652675, 7130.03401871, 6721.04974522,\n",
       "       5866.38688815, 7162.75929816, 6118.75816003, 7136.71096439,\n",
       "       5767.67777275, 6618.5353011 , 7551.25531873, 4198.5300088 ,\n",
       "       7258.65350574, 6933.59073893, 4279.34671026, 7102.44005634,\n",
       "       7796.48757116, 6664.61005352, 6826.53014075, 6644.12275954,\n",
       "       6670.1181824 , 7617.34999726, 4713.38656069, 7245.6740548 ,\n",
       "       6804.66263682, 4523.72262242, 5504.40958806, 4389.21433784,\n",
       "       4367.72176763, 7207.69778947, 7397.28201455, 6764.1761976 ,\n",
       "       5887.56863145, 7312.56687762, 7622.35732962, 6609.44824223,\n",
       "       6041.99850081, 6118.17670397, 4144.47645621, 5906.36114591,\n",
       "       7612.82134528, 6276.91457584, 7067.88786905, 6879.54718821,\n",
       "       6331.60609408, 7985.20158636, 4663.91899707, 7738.348665  ,\n",
       "       7024.71296548, 6849.33859037, 7107.49796025, 6938.42748637,\n",
       "       6624.21835731, 6010.80417184, 7030.84132266, 4527.31711959,\n",
       "       6501.49679654, 7207.69778947, 7494.38632014, 7107.90118768,\n",
       "       7356.07533083, 4336.68492184, 7177.15240712, 3918.87252023,\n",
       "       7168.85992093, 5894.84632768, 6260.61941496, 6185.00539824,\n",
       "       7114.30883406, 6797.47435256, 6075.17774521, 6365.37430468,\n",
       "       7304.16051479, 6941.16278721, 4893.14676319, 6427.12976509,\n",
       "       4269.16444408, 7013.58183135, 4688.56691303, 4317.83922827,\n",
       "       7064.8690108 , 4157.50716877, 5936.85110813, 7313.97837053,\n",
       "       7427.38112233, 6038.39309152, 6588.72464239, 6400.73338298,\n",
       "       4585.83649492, 3971.33654879, 7689.54491125, 6901.6335434 ,\n",
       "       7291.01681209, 6522.35371015, 6160.63812912, 6093.37550399,\n",
       "       4641.02592985, 6257.67236009, 6456.84419861, 6866.03900063,\n",
       "       6626.87221416, 6454.65820353, 7127.18825934, 7204.02407797,\n",
       "       6951.07906561, 6720.64125143, 5705.98286683, 5312.59128933,\n",
       "       5435.9099589 , 6874.4934452 , 6904.41565424, 5450.85161691,\n",
       "       6163.2789899 , 7259.09769457, 7072.3749529 , 5874.20463654,\n",
       "       6414.57167557, 6531.67552312, 6427.87126722, 7119.2037527 ,\n",
       "       6637.29810101, 6815.71071365, 6577.42643383, 6597.19893783,\n",
       "       6013.83226001, 6957.58021581, 6610.01194265, 5677.76956079,\n",
       "       6952.33111742, 7795.1923396 , 6739.70448296, 6927.57783263,\n",
       "       6871.83079356, 4575.68942013, 7073.49305489, 4086.59768801,\n",
       "       7762.43786052, 6888.92177295, 6785.52842233, 7048.88232778,\n",
       "       7599.53528686, 6742.45771455, 6022.94261749, 5894.83146983,\n",
       "       6277.19109333, 4453.50464406, 7724.13917522, 6121.26365442,\n",
       "       7775.50208951, 6144.87509722, 6952.6056709 , 7251.23185955,\n",
       "       7570.60165146, 6916.603152  , 6537.77112712, 7482.41998159,\n",
       "       7422.36685788, 7226.69257668, 7127.09257848, 6972.87103436,\n",
       "       3870.3566053 , 7374.70122162, 6341.63522411])"
      ]
     },
     "execution_count": 56,
     "metadata": {},
     "output_type": "execute_result"
    }
   ],
   "source": [
    "y_pred = rg.predict(x_test)\n",
    "y_pred"
   ]
  },
  {
   "cell_type": "markdown",
   "metadata": {},
   "source": [
    "## Scatter Plot"
   ]
  },
  {
   "cell_type": "code",
   "execution_count": 57,
   "metadata": {},
   "outputs": [
    {
     "data": {
      "image/png": "[encoded data removed]",
      "text/plain": [
       "<Figure size 432x288 with 1 Axes>"
      ]
     },
     "metadata": {
      "needs_background": "light"
     },
     "output_type": "display_data"
    }
   ],
   "source": [
    "plt.scatter(y_test, y_pred, alpha = 0.5)\n",
    "plt.xlabel(\"y_test\")\n",
    "plt.ylabel(\"y_pred\")\n",
    "plt.show()"
   ]
  },
  {
   "cell_type": "markdown",
   "metadata": {},
   "source": [
    "## MSE"
   ]
  },
  {
   "cell_type": "code",
   "execution_count": 58,
   "metadata": {
    "scrolled": true
   },
   "outputs": [
    {
     "data": {
      "text/plain": [
       "7956678.739333792"
      ]
     },
     "execution_count": 58,
     "metadata": {},
     "output_type": "execute_result"
    }
   ],
   "source": [
    "mean_squared_error(y_test,y_pred)"
   ]
  },
  {
   "cell_type": "markdown",
   "metadata": {},
   "source": [
    "## RMSE"
   ]
  },
  {
   "cell_type": "code",
   "execution_count": 59,
   "metadata": {},
   "outputs": [
    {
     "data": {
      "text/plain": [
       "2820.7585397076778"
      ]
     },
     "execution_count": 59,
     "metadata": {},
     "output_type": "execute_result"
    }
   ],
   "source": [
    "np.sqrt(mean_squared_error(y_test,y_pred))"
   ]
  },
  {
   "cell_type": "markdown",
   "metadata": {},
   "source": [
    "## r2 score"
   ]
  },
  {
   "cell_type": "code",
   "execution_count": 60,
   "metadata": {},
   "outputs": [
    {
     "data": {
      "text/plain": [
       "0.11949209738011568"
      ]
     },
     "execution_count": 60,
     "metadata": {},
     "output_type": "execute_result"
    }
   ],
   "source": [
    "r2_score(y_test,y_pred)"
   ]
  },
  {
   "cell_type": "code",
   "execution_count": 114,
   "metadata": {},
   "outputs": [],
   "source": [
    "# Linear Regression accuracy score 11%"
   ]
  },
  {
   "cell_type": "markdown",
   "metadata": {},
   "source": [
    "## DecisionTreeRegressor"
   ]
  },
  {
   "cell_type": "code",
   "execution_count": 61,
   "metadata": {},
   "outputs": [
    {
     "data": {
      "text/plain": [
       "DecisionTreeRegressor()"
      ]
     },
     "execution_count": 61,
     "metadata": {},
     "output_type": "execute_result"
    }
   ],
   "source": [
    "dt = DecisionTreeRegressor()\n",
    "dt.fit(x_train,y_train)"
   ]
  },
  {
   "cell_type": "code",
   "execution_count": 62,
   "metadata": {},
   "outputs": [
    {
     "data": {
      "text/plain": [
       "0.9987444324558606"
      ]
     },
     "execution_count": 62,
     "metadata": {},
     "output_type": "execute_result"
    }
   ],
   "source": [
    "dt.score(x_train,y_train)"
   ]
  },
  {
   "cell_type": "code",
   "execution_count": 63,
   "metadata": {},
   "outputs": [
    {
     "data": {
      "text/plain": [
       "0.1243511924515116"
      ]
     },
     "execution_count": 63,
     "metadata": {},
     "output_type": "execute_result"
    }
   ],
   "source": [
    "dt.score(x_test,y_test)"
   ]
  },
  {
   "cell_type": "code",
   "execution_count": 64,
   "metadata": {},
   "outputs": [
    {
     "data": {
      "text/plain": [
       "array([ 4500. ,  4294. ,  4996. ,  6354. ,  6311. ,  4683. ,  5717. ,\n",
       "        4661. ,  5806. ,  5595. ,  5702. ,  7830. ,  6354. ,  5959. ,\n",
       "        4932. ,  5614. ,  6258. ,  5141. ,  4919. ,  6483. ,  5345. ,\n",
       "        7461. ,  4903. ,  6295. ,  3988. ,  3597. ,  3295. ,  5896. ,\n",
       "        4405. ,  3994. ,  5975. , 11372. ,  7004. ,  9745. ,  4448. ,\n",
       "        4180. ,  4788. ,  4788. , 12990. ,  3515. ,  5660. ,  4888. ,\n",
       "        6339. ,  3435. ,  9745. ,  5934. ,  6803. ,  6266. ,  5168. ,\n",
       "        7023. ,  6295. ,  3435. , 10883. ,  9021. ,  6857. ,  3211. ,\n",
       "        4301. ,  7461. ,  9408. ,  6988. ,  9682. ,  5974. ,  5838. ,\n",
       "        5974. ,  6793. , 14678. ,  4010. ,  4208. ,  4373. ,  6268. ,\n",
       "        5217. ,  6545. ,  5063. ,  4746. ,  7142. ,  4226. ,  6295. ,\n",
       "        5702. ,  4919. ,  4500. ,  5606. ,  3993. ,  3930. ,  5640. ,\n",
       "        3211. ,  3999. ,  9611. ,  5838. ,  2019. ,  4303. , 10002. ,\n",
       "        3294. ,  4718. , 17170. ,  7142. ,  6121. ,  9970. ,  9682. ,\n",
       "       10129. ,  8063. , 10954. , 11414. ,  5754. ,  6845. ,  5269. ,\n",
       "        6845. ,  5583. ,  4270. ,  5702. ,  4640. ,  2842. ,  5049. ,\n",
       "        3988. , 10883. ,  5640. ,  4788. ,  3301. ,  6996. ,  4945. ,\n",
       "        4270. ,  6121. ,  6815. ,  6121. ,  4704. ,  2456. ,  3597. ,\n",
       "        7969. ,  9590. ,  4002. ,  6960. ,  9919. ,  9970. ,  7457. ,\n",
       "        4226. ,  3988. ,  4564. ,  6643. ,  6268. ,  4002. ,  4208. ,\n",
       "        8399. , 11879. ,  6313. ,  4564. ,  5269. ,  4815. ,  5827. ,\n",
       "        6988. , 16424. ,  7142. ,  4512. ,  4496. ,  6806. , 13063. ,\n",
       "       10529. , 12438. ,  6126. ,  7645. , 10663. ,  6295. ,  3301. ,\n",
       "        5609. ,  5902. ,  6339. ,  6121. ,  5009. ,  5440. ,  5009. ,\n",
       "        5806. , 13766. ,  8999. ,  2418. ,  4523. ,  9461. ,  2772. ,\n",
       "        5934. ,  4718. ,  7457. ,  5389. ,  7004. ,  9408. ,  5764. ,\n",
       "        3402. , 12438. , 13766. ,  4576. ,  6268. ,  4500. ,  3999. ,\n",
       "       12438. ,  4845. ,  4177. ,  4194. ,  7047. ,  6793. ,  6539. ,\n",
       "        6803.5,  4512. ,  3981. ,  5871. ,  5702. ,  4326. ,  4325. ,\n",
       "        7174. ,  9080. ,  7457. ,  5178. ,  7362. ,  5215. ,  5574. ,\n",
       "        7926. ,  5614. ,  4180. ,  6481. ,  6483. ,  4502. ,  7709. ,\n",
       "       12438. ,  7004. , 11109. ,  4010. ,  3026. ,  5838. ,  2456. ,\n",
       "        6545. ,  4116. ,  5609. ,  3993. , 11946. ,  5975. ,  5609. ,\n",
       "        4496. ,  4294. ,  5474. ,  3597. ,  5133. ,  4923. , 11372. ,\n",
       "        8463. ,  3999. ,  6483. ,  3026. , 11066. ,  4683. , 12438. ,\n",
       "        5660. ,  7181. ,  4194. ,  3999. ,  3001. ,  4294. ,  5194. ,\n",
       "       10115. , 14694. ,  5953. ,  5462. ,  4151. ,  5870. , 14678. ,\n",
       "        7809. ,  6706. ,  4301. ,  4373. , 13315. ,  9970. ,  3646. ,\n",
       "        6845. ,  9919. ,  9814. ,  6215. ,  7877. ,  3988. ,  6121. ,\n",
       "        6845. ,  4476. ,  4286. ,  5974. ,  4208. ,  3988. ,  5269. ,\n",
       "        7457. ,  5049. ,  8696. ,  6593. ,  4194. ,  6117. , 13766. ,\n",
       "        3988. ,  5614. ,  5702. ,  3582. ,  6806. ,  6539. ,  3016. ,\n",
       "        6483. ,  3999. ,  8063. ,  6481. , 15862. ,  4476. ,  4294. ,\n",
       "        8673. ,  7181. ,  9396. ,  8399. ,  3435. ,  7926. ,  4291. ,\n",
       "        4377. ,  4360. ,  7602. ,  7506. ,  8999. ,  7602. ,  6481. ,\n",
       "        4294. ,  3800. ,  6996. ,  6483. , 14681. ,  2720. ,  5856. ,\n",
       "        7522. ])"
      ]
     },
     "execution_count": 64,
     "metadata": {},
     "output_type": "execute_result"
    }
   ],
   "source": [
    "y_pred = dt.predict(x_test)\n",
    "y_pred"
   ]
  },
  {
   "cell_type": "markdown",
   "metadata": {},
   "source": [
    "## Scatter Plot"
   ]
  },
  {
   "cell_type": "code",
   "execution_count": 65,
   "metadata": {},
   "outputs": [
    {
     "data": {
      "image/png": "[encoded data removed]",
      "text/plain": [
       "<Figure size 432x288 with 1 Axes>"
      ]
     },
     "metadata": {
      "needs_background": "light"
     },
     "output_type": "display_data"
    }
   ],
   "source": [
    "plt.scatter(y_test, y_pred, alpha = 0.5)\n",
    "plt.xlabel(\"y_test\")\n",
    "plt.ylabel(\"y_pred\")\n",
    "plt.show()"
   ]
  },
  {
   "cell_type": "markdown",
   "metadata": {},
   "source": [
    "## MSE"
   ]
  },
  {
   "cell_type": "code",
   "execution_count": 66,
   "metadata": {},
   "outputs": [
    {
     "data": {
      "text/plain": [
       "7912769.697368421"
      ]
     },
     "execution_count": 66,
     "metadata": {},
     "output_type": "execute_result"
    }
   ],
   "source": [
    "mean_squared_error(y_test,y_pred)"
   ]
  },
  {
   "cell_type": "markdown",
   "metadata": {},
   "source": [
    "## RMSE"
   ]
  },
  {
   "cell_type": "code",
   "execution_count": 67,
   "metadata": {},
   "outputs": [
    {
     "data": {
      "text/plain": [
       "2812.9645744958148"
      ]
     },
     "execution_count": 67,
     "metadata": {},
     "output_type": "execute_result"
    }
   ],
   "source": [
    "np.sqrt(mean_squared_error(y_test,y_pred))"
   ]
  },
  {
   "cell_type": "markdown",
   "metadata": {},
   "source": [
    "## r2 score"
   ]
  },
  {
   "cell_type": "code",
   "execution_count": 68,
   "metadata": {},
   "outputs": [
    {
     "data": {
      "text/plain": [
       "0.1243511924515116"
      ]
     },
     "execution_count": 68,
     "metadata": {},
     "output_type": "execute_result"
    }
   ],
   "source": [
    "r2_score(y_test,y_pred)"
   ]
  },
  {
   "cell_type": "code",
   "execution_count": 115,
   "metadata": {},
   "outputs": [],
   "source": [
    "# Decision Tree Regression accuracy score 12%"
   ]
  },
  {
   "cell_type": "markdown",
   "metadata": {},
   "source": [
    "## RandomForestRegressor"
   ]
  },
  {
   "cell_type": "code",
   "execution_count": 69,
   "metadata": {},
   "outputs": [
    {
     "data": {
      "text/plain": [
       "RandomForestRegressor()"
      ]
     },
     "execution_count": 69,
     "metadata": {},
     "output_type": "execute_result"
    }
   ],
   "source": [
    "rf = RandomForestRegressor()\n",
    "rf.fit(x_train,y_train)"
   ]
  },
  {
   "cell_type": "code",
   "execution_count": 70,
   "metadata": {},
   "outputs": [
    {
     "data": {
      "text/plain": [
       "0.9317795359603639"
      ]
     },
     "execution_count": 70,
     "metadata": {},
     "output_type": "execute_result"
    }
   ],
   "source": [
    "# adjusted r2 score\n",
    "rf.score(x_train,y_train)"
   ]
  },
  {
   "cell_type": "code",
   "execution_count": 71,
   "metadata": {},
   "outputs": [
    {
     "data": {
      "text/plain": [
       "0.5554022967852575"
      ]
     },
     "execution_count": 71,
     "metadata": {},
     "output_type": "execute_result"
    }
   ],
   "source": [
    "rf.score(x_test,y_test)"
   ]
  },
  {
   "cell_type": "code",
   "execution_count": 72,
   "metadata": {},
   "outputs": [
    {
     "data": {
      "text/plain": [
       "array([ 4782.52      ,  4744.79      ,  7205.95      ,  6367.3       ,\n",
       "        7135.07      ,  5823.26      ,  5784.67      ,  5821.12      ,\n",
       "        8403.81      ,  6912.06      ,  5258.17      ,  7073.83      ,\n",
       "        6276.41      ,  6126.79      ,  5061.47      ,  5318.75      ,\n",
       "        9237.82      ,  5102.94      ,  7481.47      ,  5986.91      ,\n",
       "        5328.5       ,  7434.03      ,  6406.99      ,  5357.25      ,\n",
       "        4246.77      ,  3874.02      ,  4593.99      ,  5918.        ,\n",
       "        5450.62      ,  5226.96      ,  5333.58      , 11931.465     ,\n",
       "        6804.37      ,  7674.4       ,  6200.93      ,  5811.69      ,\n",
       "        5379.81      ,  6288.96      , 10469.5       ,  4668.2       ,\n",
       "        5145.33      ,  5241.88      ,  5776.83      ,  3488.17      ,\n",
       "        8087.5575    ,  9544.09      ,  7204.29333333,  5654.18      ,\n",
       "        4224.89      ,  8854.59      ,  5840.9       ,  3386.62      ,\n",
       "       10102.2       ,  7308.46      ,  7029.4       ,  2974.58      ,\n",
       "        6479.63      ,  7150.33      ,  7579.65      ,  6642.74      ,\n",
       "        6955.2       ,  7614.81333333,  5657.03      ,  7440.58333333,\n",
       "        8176.46      ,  6686.69      ,  5481.79      ,  5037.02      ,\n",
       "        5917.77      ,  5695.31      ,  5641.78      ,  7328.37      ,\n",
       "        5274.87      ,  9332.46      ,  6891.02      ,  4039.03      ,\n",
       "        5615.9       ,  4882.72      ,  6803.99      ,  4478.26      ,\n",
       "        6178.84      ,  6572.5       ,  4904.25      ,  9073.21      ,\n",
       "        2833.4       ,  4027.5       ,  7499.56      ,  6281.57      ,\n",
       "        3052.72      ,  4745.63      ,  7503.83      ,  4161.99      ,\n",
       "        5209.15      , 11828.412     ,  6318.37      ,  6864.895     ,\n",
       "        8731.49      ,  7427.78      , 10122.5       ,  5783.11      ,\n",
       "       10303.4       , 10682.56      ,  6632.48      ,  6456.72      ,\n",
       "        5526.58      ,  8610.11      ,  6267.185     ,  5819.08      ,\n",
       "        6162.15      ,  5438.27      ,  3866.78      ,  5932.01      ,\n",
       "        4047.01      , 10073.23      ,  7658.69      ,  6064.91      ,\n",
       "        3298.23      ,  8748.86      ,  6071.39      ,  5518.58      ,\n",
       "        8472.205     ,  7231.07      ,  6080.215     ,  8877.365     ,\n",
       "        2504.81      ,  3581.47      ,  6662.98      ,  8449.37      ,\n",
       "        5810.38      ,  5504.84      ,  9580.24      ,  9033.44      ,\n",
       "        6933.34      ,  4083.64      ,  4286.97      ,  5580.32      ,\n",
       "        6897.65      ,  5554.4       ,  5858.95      ,  5220.43      ,\n",
       "        9626.465     , 10832.64      ,  6488.41      ,  5415.58      ,\n",
       "        9612.67      ,  5022.26      ,  7823.31333333,  7197.74      ,\n",
       "        6720.11      ,  6859.86      ,  4494.32      ,  7732.42      ,\n",
       "        6779.97      ,  4682.9       ,  9569.53666667, 10442.76      ,\n",
       "        6078.78      ,  6688.82      ,  9987.47      ,  6117.79      ,\n",
       "        3634.57      ,  6273.57      ,  6153.07      ,  6001.01      ,\n",
       "        6882.76      ,  6008.86      ,  6332.65      ,  6065.95      ,\n",
       "        6943.46      , 11143.37      ,  8872.0675    ,  3178.7       ,\n",
       "        5197.16      ,  9294.06      ,  2740.57      ,  7132.545     ,\n",
       "        5892.93      ,  6816.22      ,  5895.17      ,  6362.555     ,\n",
       "        7081.12      ,  5782.59      ,  4469.86      , 11073.41      ,\n",
       "        5889.1       ,  2865.58      ,  6031.74      ,  4759.41      ,\n",
       "        3980.48      , 10199.36      ,  5243.56      ,  4813.69      ,\n",
       "        7179.8       ,  6758.25      ,  8286.75      ,  5981.06      ,\n",
       "        6743.52      ,  4526.89      ,  3848.37      ,  5904.09      ,\n",
       "        6130.23      ,  4837.23      ,  5153.33      ,  9266.67833333,\n",
       "        8488.04      ,  7520.91      ,  4496.22      ,  7528.65      ,\n",
       "        5401.9       ,  5255.01      ,  4708.61      ,  5331.63      ,\n",
       "        4993.84      , 10654.49      ,  7691.77      ,  4763.66      ,\n",
       "        5737.84      , 10199.36      ,  7399.42      ,  9000.73      ,\n",
       "        4807.21      ,  3131.77      ,  5740.73      ,  2661.51      ,\n",
       "        6984.        ,  4771.1       ,  4664.99      ,  6521.96      ,\n",
       "       11492.02333333,  5356.14      ,  6934.45      ,  7748.23      ,\n",
       "        5214.59      ,  5714.7       ,  3953.96      ,  5281.54      ,\n",
       "        5239.15      , 11481.78      ,  4763.26      ,  3754.79      ,\n",
       "        5685.35      ,  3043.94      ,  8621.85333333,  5518.94      ,\n",
       "       11831.54      ,  5297.59      ,  8585.84666667,  6711.91      ,\n",
       "        3735.17      ,  2868.38      ,  6252.27      ,  5199.3       ,\n",
       "        9566.06      ,  6612.78      ,  6450.74      ,  5185.05      ,\n",
       "        3873.28      ,  5732.95      ,  8330.8       ,  7178.93      ,\n",
       "        7312.71      ,  5738.77      ,  5387.36      , 10268.175     ,\n",
       "        8998.45      ,  4888.3       ,  9131.72      ,  9580.24      ,\n",
       "        9709.76      ,  6220.44      ,  7187.59      ,  4710.53      ,\n",
       "        6080.215     ,  6469.81      ,  5204.15      ,  5689.72      ,\n",
       "        6605.65      ,  7968.88      ,  4397.05      ,  5778.93      ,\n",
       "        6884.32      ,  5792.62      ,  7902.97      ,  7811.55      ,\n",
       "        5403.46      ,  6318.04      , 11143.45      ,  7115.31      ,\n",
       "        5403.78      ,  6740.49      ,  4953.9       ,  7181.42      ,\n",
       "        5542.83      ,  3818.62      ,  7252.1       ,  3699.46      ,\n",
       "        7639.51      ,  6661.32      , 10476.2       ,  5670.49      ,\n",
       "        8960.84      ,  8879.33      ,  8035.84      ,  6704.52      ,\n",
       "        9435.965     ,  3489.85      ,  7985.16      ,  4676.38      ,\n",
       "        6655.16      ,  4695.11      ,  8822.09      ,  5452.29      ,\n",
       "        9610.9475    ,  8787.48      ,  7338.47      ,  5501.44      ,\n",
       "        4818.74      ,  8563.66      ,  6966.77      , 11700.94      ,\n",
       "        2809.45      ,  6211.02      ,  9207.83      ])"
      ]
     },
     "execution_count": 72,
     "metadata": {},
     "output_type": "execute_result"
    }
   ],
   "source": [
    "y_pred = rf.predict(x_test)\n",
    "y_pred"
   ]
  },
  {
   "cell_type": "markdown",
   "metadata": {},
   "source": [
    "## Scatter Plot"
   ]
  },
  {
   "cell_type": "code",
   "execution_count": 73,
   "metadata": {},
   "outputs": [
    {
     "data": {
      "image/png": "[encoded data removed]",
      "text/plain": [
       "<Figure size 432x288 with 1 Axes>"
      ]
     },
     "metadata": {
      "needs_background": "light"
     },
     "output_type": "display_data"
    }
   ],
   "source": [
    "plt.scatter(y_test, y_pred, alpha = 0.5)\n",
    "plt.xlabel(\"y_test\")\n",
    "plt.ylabel(\"y_pred\")\n",
    "plt.show()"
   ]
  },
  {
   "cell_type": "markdown",
   "metadata": {},
   "source": [
    "## MSE"
   ]
  },
  {
   "cell_type": "code",
   "execution_count": 74,
   "metadata": {},
   "outputs": [
    {
     "data": {
      "text/plain": [
       "4017591.531205741"
      ]
     },
     "execution_count": 74,
     "metadata": {},
     "output_type": "execute_result"
    }
   ],
   "source": [
    "mean_squared_error(y_test,y_pred)"
   ]
  },
  {
   "cell_type": "markdown",
   "metadata": {},
   "source": [
    "## RMSE"
   ]
  },
  {
   "cell_type": "code",
   "execution_count": 75,
   "metadata": {},
   "outputs": [
    {
     "data": {
      "text/plain": [
       "2004.393058061652"
      ]
     },
     "execution_count": 75,
     "metadata": {},
     "output_type": "execute_result"
    }
   ],
   "source": [
    "np.sqrt(mean_squared_error(y_test,y_pred))"
   ]
  },
  {
   "cell_type": "markdown",
   "metadata": {},
   "source": [
    "## r2 score"
   ]
  },
  {
   "cell_type": "code",
   "execution_count": 76,
   "metadata": {},
   "outputs": [
    {
     "data": {
      "text/plain": [
       "0.5554022967852575"
      ]
     },
     "execution_count": 76,
     "metadata": {},
     "output_type": "execute_result"
    }
   ],
   "source": [
    "r2_score(y_test,y_pred)"
   ]
  },
  {
   "cell_type": "code",
   "execution_count": 116,
   "metadata": {},
   "outputs": [],
   "source": [
    "# Random Forest Regression accuracy score 55%"
   ]
  },
  {
   "cell_type": "markdown",
   "metadata": {},
   "source": [
    "## Hyperparameter Tuning in Random Forest Regressor Model"
   ]
  },
  {
   "cell_type": "markdown",
   "metadata": {},
   "source": [
    "### Using RandomizedSearchCV method for improving the r2 score"
   ]
  },
  {
   "cell_type": "code",
   "execution_count": 85,
   "metadata": {},
   "outputs": [],
   "source": [
    "#Randomized Search CV\n",
    "\n",
    "# Number of trees in random forest\n",
    "n_estimators = [int(x) for x in np.linspace(start = 100, stop = 1200, num = 12)]\n",
    "# Number of features to consider at every split\n",
    "max_features = ['auto', 'sqrt']\n",
    "# Maximum number of levels in tree\n",
    "max_depth = [int(x) for x in np.linspace(5, 30, num = 6)]\n",
    "# Minimum number of samples required to split a node\n",
    "min_samples_split = [2, 5, 10, 15, 100]\n",
    "# Minimum number of samples required at each leaf node\n",
    "min_samples_leaf = [1, 2, 5, 10]"
   ]
  },
  {
   "cell_type": "code",
   "execution_count": 86,
   "metadata": {},
   "outputs": [],
   "source": [
    "# Create the random grid\n",
    "\n",
    "random_grid = {'n_estimators': n_estimators,\n",
    "               'max_features': max_features,\n",
    "               'max_depth': max_depth,\n",
    "               'min_samples_split': min_samples_split,\n",
    "               'min_samples_leaf': min_samples_leaf}"
   ]
  },
  {
   "cell_type": "code",
   "execution_count": 87,
   "metadata": {},
   "outputs": [],
   "source": [
    "# Random search of parameters, using 5 fold cross validation, \n",
    "# search across 100 different combinations\n",
    "rf_random = RandomizedSearchCV(estimator = rf, param_distributions = random_grid,scoring='neg_mean_squared_error', n_iter = 10, cv = 5, verbose=2, random_state=42, n_jobs = 1)"
   ]
  },
  {
   "cell_type": "code",
   "execution_count": 88,
   "metadata": {},
   "outputs": [
    {
     "name": "stdout",
     "output_type": "stream",
     "text": [
      "Fitting 5 folds for each of 10 candidates, totalling 50 fits\n",
      "[CV] END max_depth=10, max_features=sqrt, min_samples_leaf=5, min_samples_split=5, n_estimators=900; total time=   2.1s\n",
      "[CV] END max_depth=10, max_features=sqrt, min_samples_leaf=5, min_samples_split=5, n_estimators=900; total time=   2.0s\n",
      "[CV] END max_depth=10, max_features=sqrt, min_samples_leaf=5, min_samples_split=5, n_estimators=900; total time=   1.9s\n",
      "[CV] END max_depth=10, max_features=sqrt, min_samples_leaf=5, min_samples_split=5, n_estimators=900; total time=   2.0s\n",
      "[CV] END max_depth=10, max_features=sqrt, min_samples_leaf=5, min_samples_split=5, n_estimators=900; total time=   2.0s\n",
      "[CV] END max_depth=15, max_features=sqrt, min_samples_leaf=2, min_samples_split=10, n_estimators=1100; total time=   2.4s\n",
      "[CV] END max_depth=15, max_features=sqrt, min_samples_leaf=2, min_samples_split=10, n_estimators=1100; total time=   2.4s\n",
      "[CV] END max_depth=15, max_features=sqrt, min_samples_leaf=2, min_samples_split=10, n_estimators=1100; total time=   2.4s\n",
      "[CV] END max_depth=15, max_features=sqrt, min_samples_leaf=2, min_samples_split=10, n_estimators=1100; total time=   2.4s\n",
      "[CV] END max_depth=15, max_features=sqrt, min_samples_leaf=2, min_samples_split=10, n_estimators=1100; total time=   2.4s\n",
      "[CV] END max_depth=15, max_features=auto, min_samples_leaf=5, min_samples_split=100, n_estimators=300; total time=   0.7s\n",
      "[CV] END max_depth=15, max_features=auto, min_samples_leaf=5, min_samples_split=100, n_estimators=300; total time=   0.9s\n",
      "[CV] END max_depth=15, max_features=auto, min_samples_leaf=5, min_samples_split=100, n_estimators=300; total time=   0.7s\n",
      "[CV] END max_depth=15, max_features=auto, min_samples_leaf=5, min_samples_split=100, n_estimators=300; total time=   0.7s\n",
      "[CV] END max_depth=15, max_features=auto, min_samples_leaf=5, min_samples_split=100, n_estimators=300; total time=   0.7s\n",
      "[CV] END max_depth=15, max_features=auto, min_samples_leaf=5, min_samples_split=5, n_estimators=400; total time=   1.2s\n",
      "[CV] END max_depth=15, max_features=auto, min_samples_leaf=5, min_samples_split=5, n_estimators=400; total time=   1.2s\n",
      "[CV] END max_depth=15, max_features=auto, min_samples_leaf=5, min_samples_split=5, n_estimators=400; total time=   1.2s\n",
      "[CV] END max_depth=15, max_features=auto, min_samples_leaf=5, min_samples_split=5, n_estimators=400; total time=   1.2s\n",
      "[CV] END max_depth=15, max_features=auto, min_samples_leaf=5, min_samples_split=5, n_estimators=400; total time=   1.2s\n",
      "[CV] END max_depth=20, max_features=auto, min_samples_leaf=10, min_samples_split=5, n_estimators=700; total time=   1.9s\n",
      "[CV] END max_depth=20, max_features=auto, min_samples_leaf=10, min_samples_split=5, n_estimators=700; total time=   1.9s\n",
      "[CV] END max_depth=20, max_features=auto, min_samples_leaf=10, min_samples_split=5, n_estimators=700; total time=   1.9s\n",
      "[CV] END max_depth=20, max_features=auto, min_samples_leaf=10, min_samples_split=5, n_estimators=700; total time=   2.3s\n",
      "[CV] END max_depth=20, max_features=auto, min_samples_leaf=10, min_samples_split=5, n_estimators=700; total time=   1.9s\n",
      "[CV] END max_depth=25, max_features=sqrt, min_samples_leaf=1, min_samples_split=2, n_estimators=1000; total time=   2.6s\n",
      "[CV] END max_depth=25, max_features=sqrt, min_samples_leaf=1, min_samples_split=2, n_estimators=1000; total time=   2.6s\n",
      "[CV] END max_depth=25, max_features=sqrt, min_samples_leaf=1, min_samples_split=2, n_estimators=1000; total time=   2.6s\n",
      "[CV] END max_depth=25, max_features=sqrt, min_samples_leaf=1, min_samples_split=2, n_estimators=1000; total time=   2.8s\n",
      "[CV] END max_depth=25, max_features=sqrt, min_samples_leaf=1, min_samples_split=2, n_estimators=1000; total time=   3.0s\n",
      "[CV] END max_depth=5, max_features=sqrt, min_samples_leaf=10, min_samples_split=15, n_estimators=1100; total time=   2.1s\n",
      "[CV] END max_depth=5, max_features=sqrt, min_samples_leaf=10, min_samples_split=15, n_estimators=1100; total time=   2.1s\n",
      "[CV] END max_depth=5, max_features=sqrt, min_samples_leaf=10, min_samples_split=15, n_estimators=1100; total time=   2.1s\n",
      "[CV] END max_depth=5, max_features=sqrt, min_samples_leaf=10, min_samples_split=15, n_estimators=1100; total time=   2.1s\n",
      "[CV] END max_depth=5, max_features=sqrt, min_samples_leaf=10, min_samples_split=15, n_estimators=1100; total time=   2.1s\n",
      "[CV] END max_depth=15, max_features=sqrt, min_samples_leaf=1, min_samples_split=15, n_estimators=300; total time=   0.6s\n",
      "[CV] END max_depth=15, max_features=sqrt, min_samples_leaf=1, min_samples_split=15, n_estimators=300; total time=   0.6s\n",
      "[CV] END max_depth=15, max_features=sqrt, min_samples_leaf=1, min_samples_split=15, n_estimators=300; total time=   0.6s\n",
      "[CV] END max_depth=15, max_features=sqrt, min_samples_leaf=1, min_samples_split=15, n_estimators=300; total time=   0.7s\n",
      "[CV] END max_depth=15, max_features=sqrt, min_samples_leaf=1, min_samples_split=15, n_estimators=300; total time=   0.7s\n",
      "[CV] END max_depth=5, max_features=sqrt, min_samples_leaf=2, min_samples_split=10, n_estimators=700; total time=   1.3s\n",
      "[CV] END max_depth=5, max_features=sqrt, min_samples_leaf=2, min_samples_split=10, n_estimators=700; total time=   1.3s\n",
      "[CV] END max_depth=5, max_features=sqrt, min_samples_leaf=2, min_samples_split=10, n_estimators=700; total time=   1.3s\n",
      "[CV] END max_depth=5, max_features=sqrt, min_samples_leaf=2, min_samples_split=10, n_estimators=700; total time=   1.3s\n",
      "[CV] END max_depth=5, max_features=sqrt, min_samples_leaf=2, min_samples_split=10, n_estimators=700; total time=   1.3s\n",
      "[CV] END max_depth=20, max_features=auto, min_samples_leaf=1, min_samples_split=15, n_estimators=700; total time=   2.2s\n",
      "[CV] END max_depth=20, max_features=auto, min_samples_leaf=1, min_samples_split=15, n_estimators=700; total time=   2.2s\n",
      "[CV] END max_depth=20, max_features=auto, min_samples_leaf=1, min_samples_split=15, n_estimators=700; total time=   2.2s\n",
      "[CV] END max_depth=20, max_features=auto, min_samples_leaf=1, min_samples_split=15, n_estimators=700; total time=   2.5s\n",
      "[CV] END max_depth=20, max_features=auto, min_samples_leaf=1, min_samples_split=15, n_estimators=700; total time=   2.2s\n"
     ]
    },
    {
     "data": {
      "text/plain": [
       "RandomizedSearchCV(cv=5, estimator=RandomForestRegressor(), n_jobs=1,\n",
       "                   param_distributions={'max_depth': [5, 10, 15, 20, 25, 30],\n",
       "                                        'max_features': ['auto', 'sqrt'],\n",
       "                                        'min_samples_leaf': [1, 2, 5, 10],\n",
       "                                        'min_samples_split': [2, 5, 10, 15,\n",
       "                                                              100],\n",
       "                                        'n_estimators': [100, 200, 300, 400,\n",
       "                                                         500, 600, 700, 800,\n",
       "                                                         900, 1000, 1100,\n",
       "                                                         1200]},\n",
       "                   random_state=42, scoring='neg_mean_squared_error',\n",
       "                   verbose=2)"
      ]
     },
     "execution_count": 88,
     "metadata": {},
     "output_type": "execute_result"
    }
   ],
   "source": [
    "rf_random.fit(x_train,y_train)"
   ]
  },
  {
   "cell_type": "code",
   "execution_count": 89,
   "metadata": {},
   "outputs": [],
   "source": [
    "prediction = rf_random.predict(x_test)"
   ]
  },
  {
   "cell_type": "markdown",
   "metadata": {},
   "source": [
    "## Scatter Plot"
   ]
  },
  {
   "cell_type": "code",
   "execution_count": 90,
   "metadata": {},
   "outputs": [
    {
     "data": {
      "image/png": "[encoded data removed]",
      "text/plain": [
       "<Figure size 576x576 with 1 Axes>"
      ]
     },
     "metadata": {
      "needs_background": "light"
     },
     "output_type": "display_data"
    }
   ],
   "source": [
    "plt.figure(figsize = (8,8))\n",
    "plt.scatter(y_test, prediction, alpha = 0.5)\n",
    "plt.xlabel(\"y_test\")\n",
    "plt.ylabel(\"y_pred\")\n",
    "plt.show()"
   ]
  },
  {
   "cell_type": "markdown",
   "metadata": {},
   "source": [
    "## MSE"
   ]
  },
  {
   "cell_type": "code",
   "execution_count": 91,
   "metadata": {},
   "outputs": [
    {
     "data": {
      "text/plain": [
       "7482401.250526629"
      ]
     },
     "execution_count": 91,
     "metadata": {},
     "output_type": "execute_result"
    }
   ],
   "source": [
    "mean_squared_error(y_test,y_pred)"
   ]
  },
  {
   "cell_type": "markdown",
   "metadata": {},
   "source": [
    "## RMSE"
   ]
  },
  {
   "cell_type": "code",
   "execution_count": 92,
   "metadata": {},
   "outputs": [
    {
     "data": {
      "text/plain": [
       "2735.397823082893"
      ]
     },
     "execution_count": 92,
     "metadata": {},
     "output_type": "execute_result"
    }
   ],
   "source": [
    "np.sqrt(mean_squared_error(y_test,y_pred))"
   ]
  },
  {
   "cell_type": "markdown",
   "metadata": {},
   "source": [
    "## r2 score"
   ]
  },
  {
   "cell_type": "code",
   "execution_count": 93,
   "metadata": {},
   "outputs": [
    {
     "data": {
      "text/plain": [
       "0.17197694572079236"
      ]
     },
     "execution_count": 93,
     "metadata": {},
     "output_type": "execute_result"
    }
   ],
   "source": [
    "r2_score(y_test,y_pred)"
   ]
  },
  {
   "cell_type": "code",
   "execution_count": 118,
   "metadata": {},
   "outputs": [],
   "source": [
    "# I have tried to improve the accuracy score by using hyper parameter tunning in random forest algorithm.\n",
    "# Hyper parameter is reducing the accuracy score."
   ]
  },
  {
   "cell_type": "markdown",
   "metadata": {},
   "source": [
    "## AdaBoost Regressor Model"
   ]
  },
  {
   "cell_type": "code",
   "execution_count": 77,
   "metadata": {},
   "outputs": [
    {
     "data": {
      "text/plain": [
       "AdaBoostRegressor()"
      ]
     },
     "execution_count": 77,
     "metadata": {},
     "output_type": "execute_result"
    }
   ],
   "source": [
    "ada = AdaBoostRegressor()\n",
    "ada.fit(x_train,y_train)"
   ]
  },
  {
   "cell_type": "code",
   "execution_count": 78,
   "metadata": {},
   "outputs": [
    {
     "data": {
      "text/plain": [
       "0.18713105690613063"
      ]
     },
     "execution_count": 78,
     "metadata": {},
     "output_type": "execute_result"
    }
   ],
   "source": [
    "# adjusted r2 score\n",
    "ada.score(x_train,y_train)"
   ]
  },
  {
   "cell_type": "code",
   "execution_count": 79,
   "metadata": {},
   "outputs": [
    {
     "data": {
      "text/plain": [
       "0.17197694572079236"
      ]
     },
     "execution_count": 79,
     "metadata": {},
     "output_type": "execute_result"
    }
   ],
   "source": [
    "ada.score(x_test,y_test)"
   ]
  },
  {
   "cell_type": "code",
   "execution_count": 80,
   "metadata": {},
   "outputs": [
    {
     "data": {
      "text/plain": [
       "array([5763.2       , 7018.29639175, 8269.21044776, 6944.79126214,\n",
       "       8390.6122449 , 8271.63987138, 8269.21044776, 7643.39053254,\n",
       "       8271.63987138, 8553.69310345, 8066.0625    , 8271.63987138,\n",
       "       6944.79126214, 8066.0625    , 5209.46666667, 6944.79126214,\n",
       "       8328.73271028, 5209.46666667, 7643.39053254, 6944.79126214,\n",
       "       8328.73271028, 8271.63987138, 6419.9760479 , 8328.73271028,\n",
       "       6675.49101796, 4590.66666667, 6675.49101796, 6784.16901408,\n",
       "       8271.63987138, 6784.16901408, 6944.79126214, 9678.74612403,\n",
       "       7148.19902913, 7950.3015873 , 6944.79126214, 7018.29639175,\n",
       "       8328.73271028, 8328.73271028, 9415.06122449, 6944.79126214,\n",
       "       8822.32653061, 7643.39053254, 8269.21044776, 5763.2       ,\n",
       "       8013.75      , 9929.46111869, 9134.31481481, 6784.16901408,\n",
       "       6675.49101796, 8822.32653061, 8417.16273585, 3633.93617021,\n",
       "       8328.73271028, 9415.06122449, 6944.79126214, 3229.25490196,\n",
       "       6675.49101796, 8328.73271028, 7148.42857143, 7018.29639175,\n",
       "       8066.0625    , 8066.0625    , 9004.35802469, 8390.6122449 ,\n",
       "       7148.19902913, 7643.39053254, 7018.29639175, 7643.39053254,\n",
       "       8271.63987138, 6675.49101796, 7148.19902913, 7643.39053254,\n",
       "       6675.49101796, 8269.21044776, 8269.21044776, 4352.54761905,\n",
       "       7148.42857143, 7148.19902913, 7643.39053254, 4751.81481481,\n",
       "       9678.74612403, 7643.39053254, 7018.29639175, 8271.63987138,\n",
       "       3212.65384615, 4352.54761905, 6419.9760479 , 8328.73271028,\n",
       "       4089.03076923, 8417.16273585, 7643.39053254, 4089.03076923,\n",
       "       6944.79126214, 9415.06122449, 8417.16273585, 7664.98333333,\n",
       "       8271.63987138, 8066.0625    , 8417.16273585, 7148.19902913,\n",
       "       8417.16273585, 8271.63987138, 8269.21044776, 6944.79126214,\n",
       "       7643.39053254, 9415.06122449, 7148.19902913, 7018.29639175,\n",
       "       7643.39053254, 7643.39053254, 5763.2       , 8271.63987138,\n",
       "       8013.75      , 8271.63987138, 8269.21044776, 8269.21044776,\n",
       "       4223.77142857, 7643.39053254, 7643.39053254, 7018.29639175,\n",
       "       9415.06122449, 8271.63987138, 8271.63987138, 8822.32653061,\n",
       "       3212.65384615, 4352.54761905, 7643.39053254, 8469.17592593,\n",
       "       6944.79126214, 7018.29639175, 8417.16273585, 8271.63987138,\n",
       "       7950.3015873 , 4776.05263158, 6675.49101796, 8271.63987138,\n",
       "       8271.63987138, 6675.49101796, 6944.79126214, 8269.21044776,\n",
       "       9415.06122449, 9929.46111869, 8269.21044776, 8066.0625    ,\n",
       "       8271.63987138, 8269.21044776, 8390.6122449 , 6675.49101796,\n",
       "       8269.21044776, 7950.3015873 , 6675.49101796, 7643.39053254,\n",
       "       8271.63987138, 7018.29639175, 8417.16273585, 8417.16273585,\n",
       "       7643.39053254, 6560.75757576, 8269.21044776, 8469.17592593,\n",
       "       4223.77142857, 8271.63987138, 6944.79126214, 7148.19902913,\n",
       "       7950.3015873 , 7643.39053254, 8271.63987138, 7643.39053254,\n",
       "       9004.35802469, 8271.63987138, 9415.06122449, 4089.03076923,\n",
       "       8269.21044776, 8269.21044776, 3229.25490196, 9678.74612403,\n",
       "       7148.19902913, 7950.3015873 , 6675.49101796, 6784.16901408,\n",
       "       8271.63987138, 8271.63987138, 4274.33333333, 8553.69310345,\n",
       "       8271.63987138, 3633.93617021, 6675.49101796, 5209.46666667,\n",
       "       4352.54761905, 8328.73271028, 6675.49101796, 7079.8       ,\n",
       "       6944.79126214, 8271.63987138, 7643.39053254, 6784.16901408,\n",
       "       8390.6122449 , 6944.79126214, 4352.54761905, 8269.21044776,\n",
       "       7643.39053254, 6944.79126214, 7643.39053254, 9134.31481481,\n",
       "       9415.06122449, 7643.39053254, 4352.54761905, 8269.21044776,\n",
       "       6675.49101796, 7148.19902913, 7018.29639175, 6944.79126214,\n",
       "       7018.29639175, 8822.32653061, 8269.21044776, 5209.46666667,\n",
       "       7950.3015873 , 8328.73271028, 7148.19902913, 8271.63987138,\n",
       "       9004.35802469, 3633.93617021, 8271.63987138, 3229.25490196,\n",
       "       8628.84357542, 6675.49101796, 6675.49101796, 8271.63987138,\n",
       "       9415.06122449, 8269.21044776, 8271.63987138, 6675.49101796,\n",
       "       7018.29639175, 8269.21044776, 4776.05263158, 7018.29639175,\n",
       "       6301.29411765, 9929.46111869, 4776.05263158, 4352.54761905,\n",
       "       7643.39053254, 3229.25490196, 9134.31481481, 8269.21044776,\n",
       "       8417.16273585, 7018.29639175, 9929.46111869, 6560.75757576,\n",
       "       4352.54761905, 3633.93617021, 7643.39053254, 7018.29639175,\n",
       "       8269.21044776, 8469.17592593, 6675.49101796, 6944.79126214,\n",
       "       4352.54761905, 7643.39053254, 7643.39053254, 7643.39053254,\n",
       "       8269.21044776, 8271.63987138, 7643.39053254, 9415.06122449,\n",
       "       8271.63987138, 7643.39053254, 9134.31481481, 8417.16273585,\n",
       "       8417.16273585, 7643.39053254, 8269.21044776, 6675.49101796,\n",
       "       8271.63987138, 8066.0625    , 8271.63987138, 6784.16901408,\n",
       "       9134.31481481, 7950.3015873 , 8271.63987138, 7643.39053254,\n",
       "       7950.3015873 , 8553.69310345, 8271.63987138, 9004.35802469,\n",
       "       6944.79126214, 8269.21044776, 8269.21044776, 7643.39053254,\n",
       "       6944.79126214, 7643.39053254, 7079.8       , 8269.21044776,\n",
       "       7950.3015873 , 4352.54761905, 8269.21044776, 4352.54761905,\n",
       "       7018.29639175, 7643.39053254, 8417.16273585, 7643.39053254,\n",
       "       7148.19902913, 8628.84357542, 8271.63987138, 8271.63987138,\n",
       "       9415.06122449, 3633.93617021, 8271.63987138, 6944.79126214,\n",
       "       8271.63987138, 7643.39053254, 8822.32653061, 7148.19902913,\n",
       "       9415.06122449, 8271.63987138, 8271.63987138, 7018.29639175,\n",
       "       8271.63987138, 7643.39053254, 7643.39053254, 7018.29639175,\n",
       "       3633.93617021, 8269.21044776, 7643.39053254])"
      ]
     },
     "execution_count": 80,
     "metadata": {},
     "output_type": "execute_result"
    }
   ],
   "source": [
    "y_pred = ada.predict(x_test)\n",
    "y_pred"
   ]
  },
  {
   "cell_type": "markdown",
   "metadata": {},
   "source": [
    "## Scatter Plot"
   ]
  },
  {
   "cell_type": "code",
   "execution_count": 81,
   "metadata": {},
   "outputs": [
    {
     "data": {
      "image/png": "[encoded data removed]",
      "text/plain": [
       "<Figure size 432x288 with 1 Axes>"
      ]
     },
     "metadata": {
      "needs_background": "light"
     },
     "output_type": "display_data"
    }
   ],
   "source": [
    "plt.scatter(y_test, y_pred, alpha = 0.5)\n",
    "plt.xlabel(\"y_test\")\n",
    "plt.ylabel(\"y_pred\")\n",
    "plt.show()"
   ]
  },
  {
   "cell_type": "markdown",
   "metadata": {},
   "source": [
    "## MSE"
   ]
  },
  {
   "cell_type": "code",
   "execution_count": 82,
   "metadata": {
    "scrolled": true
   },
   "outputs": [
    {
     "data": {
      "text/plain": [
       "7482401.250526629"
      ]
     },
     "execution_count": 82,
     "metadata": {},
     "output_type": "execute_result"
    }
   ],
   "source": [
    "mean_squared_error(y_test,y_pred)"
   ]
  },
  {
   "cell_type": "markdown",
   "metadata": {},
   "source": [
    "## RMSE"
   ]
  },
  {
   "cell_type": "code",
   "execution_count": 83,
   "metadata": {},
   "outputs": [
    {
     "data": {
      "text/plain": [
       "2735.397823082893"
      ]
     },
     "execution_count": 83,
     "metadata": {},
     "output_type": "execute_result"
    }
   ],
   "source": [
    "np.sqrt(mean_squared_error(y_test,y_pred))"
   ]
  },
  {
   "cell_type": "markdown",
   "metadata": {},
   "source": [
    "## r2 score"
   ]
  },
  {
   "cell_type": "code",
   "execution_count": 84,
   "metadata": {},
   "outputs": [
    {
     "data": {
      "text/plain": [
       "0.17197694572079236"
      ]
     },
     "execution_count": 84,
     "metadata": {},
     "output_type": "execute_result"
    }
   ],
   "source": [
    "r2_score(y_test,y_pred)"
   ]
  },
  {
   "cell_type": "code",
   "execution_count": 117,
   "metadata": {},
   "outputs": [],
   "source": [
    "# AdaBoost Regression accuracy score 17%"
   ]
  },
  {
   "cell_type": "markdown",
   "metadata": {},
   "source": [
    "## Regularization"
   ]
  },
  {
   "cell_type": "code",
   "execution_count": 119,
   "metadata": {},
   "outputs": [],
   "source": [
    "# lasso regularization\n",
    "lasscv = LassoCV(alphas = None,cv=10,max_iter=5000,normalize=True)"
   ]
  },
  {
   "cell_type": "code",
   "execution_count": 120,
   "metadata": {},
   "outputs": [
    {
     "data": {
      "text/plain": [
       "LassoCV(cv=10, max_iter=5000, normalize=True)"
      ]
     },
     "execution_count": 120,
     "metadata": {},
     "output_type": "execute_result"
    }
   ],
   "source": [
    "lasscv.fit(x_train,y_train)"
   ]
  },
  {
   "cell_type": "code",
   "execution_count": 121,
   "metadata": {},
   "outputs": [
    {
     "data": {
      "text/plain": [
       "1.4374302493910474"
      ]
     },
     "execution_count": 121,
     "metadata": {},
     "output_type": "execute_result"
    }
   ],
   "source": [
    "# best alphas parameters\n",
    "alpha = lasscv.alpha_\n",
    "alpha"
   ]
  },
  {
   "cell_type": "code",
   "execution_count": 122,
   "metadata": {},
   "outputs": [
    {
     "data": {
      "text/plain": [
       "Lasso(alpha=1.4374302493910474)"
      ]
     },
     "execution_count": 122,
     "metadata": {},
     "output_type": "execute_result"
    }
   ],
   "source": [
    "# now we have best parameter lets use the lasso regularization\n",
    "lasso_reg = Lasso(alpha)\n",
    "lasso_reg.fit(x_train,y_train)"
   ]
  },
  {
   "cell_type": "code",
   "execution_count": 123,
   "metadata": {},
   "outputs": [
    {
     "data": {
      "text/plain": [
       "0.11940278317806119"
      ]
     },
     "execution_count": 123,
     "metadata": {},
     "output_type": "execute_result"
    }
   ],
   "source": [
    "lasso_reg.score(x_test,y_test)"
   ]
  },
  {
   "cell_type": "code",
   "execution_count": 124,
   "metadata": {},
   "outputs": [],
   "source": [
    "# I have used lasso for increasing accuracy score for linear regression but it is neither improving nor reducing the score."
   ]
  },
  {
   "cell_type": "markdown",
   "metadata": {},
   "source": [
    "## Saving the Best Model"
   ]
  },
  {
   "cell_type": "code",
   "execution_count": 125,
   "metadata": {},
   "outputs": [],
   "source": [
    "import pickle"
   ]
  },
  {
   "cell_type": "code",
   "execution_count": 126,
   "metadata": {},
   "outputs": [],
   "source": [
    "# saving the Random Forest Regressor Model\n",
    "\n",
    "filename = 'finalized_model.pickle'\n",
    "pickle.dump(rf,open(filename,'wb'))\n",
    "loaded_model = pickle.load(open(filename,'rb'))"
   ]
  },
  {
   "cell_type": "code",
   "execution_count": 127,
   "metadata": {},
   "outputs": [],
   "source": [
    "# The best model is Random Forest classifier whose accuracy score is 55%."
   ]
  },
  {
   "cell_type": "code",
   "execution_count": null,
   "metadata": {},
   "outputs": [],
   "source": []
  }
 ],
 "metadata": {
  "kernelspec": {
   "display_name": "Python 3",
   "language": "python",
   "name": "python3"
  },
  "language_info": {
   "codemirror_mode": {
    "name": "ipython",
    "version": 3
   },
   "file_extension": ".py",
   "mimetype": "text/x-python",
   "name": "python",
   "nbconvert_exporter": "python",
   "pygments_lexer": "ipython3",
   "version": "3.8.5"
  }
 },
 "nbformat": 4,
 "nbformat_minor": 4
}
